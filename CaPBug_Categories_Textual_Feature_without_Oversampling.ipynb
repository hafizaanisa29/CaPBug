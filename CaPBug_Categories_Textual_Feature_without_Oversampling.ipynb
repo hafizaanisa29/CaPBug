{
 "cells": [
  {
   "cell_type": "code",
   "execution_count": 38,
   "metadata": {},
   "outputs": [
    {
     "name": "stdout",
     "output_type": "stream",
     "text": [
      "   Bug ID Product Component          Assignee    Status Classification  \\\n",
      "0  528905     JDT      Core    jdt-core-inbox  RESOLVED        Eclipse   \n",
      "1  530231     JDT      Core    jdt-core-inbox  RESOLVED        Eclipse   \n",
      "2  530758     JDT      Core          jarthana  VERIFIED        Eclipse   \n",
      "3  531990     JDT      Core    jdt-core-inbox  VERIFIED        Eclipse   \n",
      "4  532137     JDT      Core  register.eclipse  VERIFIED        Eclipse   \n",
      "\n",
      "  Priority            Opened  \\\n",
      "0       P1  12/18/2017 11:46   \n",
      "1       P1    1/24/2018 5:16   \n",
      "2       P1    2/5/2018 20:38   \n",
      "3       P1     3/5/2018 0:49   \n",
      "4       P1    3/7/2018 16:17   \n",
      "\n",
      "                                             Summary       Category  \n",
      "0  JDT UI Gerrit failing with \"invalid location f...  Configuration  \n",
      "1  Compilation failure in M20180123-0400 in jdt.c...  Configuration  \n",
      "2                    Build failure in I20180205-2000  Configuration  \n",
      "3                    Build failure in I20180304-2000  Configuration  \n",
      "4  Todays update produces compile error but javac...  Configuration  \n"
     ]
    }
   ],
   "source": [
    "import sys\n",
    "import nltk\n",
    "import sklearn\n",
    "import pandas\n",
    "import numpy\n",
    "\n",
    "import pandas as pd\n",
    "import numpy as np\n",
    "df = pd.read_csv('Bug Reports Dataset.csv')\n",
    "print (df.head(5))"
   ]
  },
  {
   "cell_type": "code",
   "execution_count": 39,
   "metadata": {},
   "outputs": [
    {
     "name": "stdout",
     "output_type": "stream",
     "text": [
      "Program_Anomaly      498\n",
      "GUI                  465\n",
      "Test_Code            336\n",
      "Performance          316\n",
      "Configuration        281\n",
      "NetworkOrSecurity    242\n",
      "Name: Category, dtype: int64\n"
     ]
    }
   ],
   "source": [
    "classes = df['Category']\n",
    "print(classes.value_counts())"
   ]
  },
  {
   "cell_type": "code",
   "execution_count": 40,
   "metadata": {},
   "outputs": [
    {
     "name": "stdout",
     "output_type": "stream",
     "text": [
      "0    Configuration\n",
      "1    Configuration\n",
      "2    Configuration\n",
      "3    Configuration\n",
      "4    Configuration\n",
      "5    Configuration\n",
      "6    Configuration\n",
      "7    Configuration\n",
      "Name: Category, dtype: object\n",
      "[0 0 0 0 0 0 0 0]\n",
      "0    JDT UI Gerrit failing with \"invalid location f...\n",
      "1    Compilation failure in M20180123-0400 in jdt.c...\n",
      "2                      Build failure in I20180205-2000\n",
      "3                      Build failure in I20180304-2000\n",
      "4    Todays update produces compile error but javac...\n",
      "5    Build 4.9.0 I-Build: I20180615-0300 failed due...\n",
      "6    Cannot Start Eclipse after Plugin 'Ecore Diagr...\n",
      "7                             Crash in parseXMLElement\n",
      "8    org.mozilla.plugincontainer - EXC_BAD_ACCESS -...\n",
      "9          English language pack not updated with 61.0\n",
      "Name: Summary, dtype: object\n"
     ]
    }
   ],
   "source": [
    "from sklearn.preprocessing import LabelEncoder\n",
    "encoder = LabelEncoder()\n",
    "Y = encoder.fit_transform (classes)\n",
    "print(classes[:8])\n",
    "print(Y[:8])\n",
    "summary = df['Summary']\n",
    "print(summary[:10])"
   ]
  },
  {
   "cell_type": "code",
   "execution_count": 41,
   "metadata": {},
   "outputs": [
    {
     "name": "stdout",
     "output_type": "stream",
     "text": [
      "        JDT UI Gerrit failing with \"invalid location f...\n",
      "        Compilation failure in M        -     in jdt.c...\n",
      "                          Build failure in I        -    \n",
      "                          Build failure in I        -    \n",
      "        Todays update produces compile error but javac...\n",
      "                              ...                        \n",
      "        OpenH    Plugin does not work frequently in fi...\n",
      "                  Crash in txMozillaXMLOutput::characters\n",
      "        After restoring profile to a different locatio...\n",
      "        User reports video artifact issues with Intel ...\n",
      "        Slow shutdown of debug Firefox (~  s) builds a...\n",
      "Name: Summary, Length:     , dtype: object\n"
     ]
    }
   ],
   "source": [
    "import re\n",
    "processed = re.sub(r'[\\d]', ' ',str(summary))\n",
    "print(processed)"
   ]
  },
  {
   "cell_type": "code",
   "execution_count": 42,
   "metadata": {},
   "outputs": [
    {
     "name": "stdout",
     "output_type": "stream",
     "text": [
      "0       jdt ui gerrit failing with  invalid location f...\n",
      "1            compilation failure in  in jdt compiler tool\n",
      "2                                       build failure in \n",
      "3                                       build failure in \n",
      "4       todays update produces compile error but javac...\n",
      "                              ...                        \n",
      "2133    openh plugin does not work frequently in firefox \n",
      "2134              crash in txmozillaxmloutput  characters\n",
      "2135    after restoring profile to different location ...\n",
      "2136    user reports video artifact issues with intel ...\n",
      "2137    slow shutdown of debug firefox  ~s  builds aft...\n",
      "Name: Summary, Length: 2138, dtype: object\n"
     ]
    }
   ],
   "source": [
    "processed = summary.str.replace(r'(\\d)' , '')\n",
    "processed = processed.str.replace(r'^\\D?(\\d{3})\\D?\\D?(\\d{3})\\D?(\\d{4})$' , ' ')\n",
    "processed = processed.str.replace(r'\\s+' , ' ')\n",
    "processed = processed.str.replace(r'[ \\t]+$' , ' ')\n",
    "processed = processed.str.replace(r'[&#();*]' , ' ')\n",
    "processed = processed.str.replace(r'[,:]' , ' ')\n",
    "processed = processed.str.replace(r'[.!?\\\\-]' , ' ')\n",
    "processed = processed.str.replace(r'[//]' , ' ')\n",
    "processed = processed.str.replace(r'[|]' , ' ')\n",
    "processed = processed.str.replace(r'\\'' , ' ')\n",
    "processed = processed.str.lower()\n",
    "processed = processed.str.replace(r'\\s[a-z]\\s' , ' ')\n",
    "processed = processed.str.replace(r'\\[[^\\]]*\\]',' ')\n",
    "processed = processed.str.replace(r'\\\"',' ')\n",
    "processed = processed.str.replace(r'\\`',' ')\n",
    "print(processed)"
   ]
  },
  {
   "cell_type": "code",
   "execution_count": 43,
   "metadata": {},
   "outputs": [],
   "source": [
    "from nltk.corpus import stopwords"
   ]
  },
  {
   "cell_type": "code",
   "execution_count": 44,
   "metadata": {},
   "outputs": [],
   "source": [
    "stop_words = set(stopwords.words('english')) "
   ]
  },
  {
   "cell_type": "code",
   "execution_count": 45,
   "metadata": {},
   "outputs": [],
   "source": [
    "processed = processed.apply(lambda x: ' ' .join(term for term in x.split() if term not in stop_words))"
   ]
  },
  {
   "cell_type": "code",
   "execution_count": 46,
   "metadata": {},
   "outputs": [
    {
     "name": "stdout",
     "output_type": "stream",
     "text": [
      "0       jdt ui gerrit failing invalid location system ...\n",
      "1                   compilation failure jdt compiler tool\n",
      "2                                           build failure\n",
      "3                                           build failure\n",
      "4       todays update produces compile error javac com...\n",
      "                              ...                        \n",
      "2133                 openh plugin work frequently firefox\n",
      "2134                  crash txmozillaxmloutput characters\n",
      "2135    restoring profile different location paths ext...\n",
      "2136    user reports video artifact issues intel gpu u...\n",
      "2137    slow shutdown debug firefox ~s builds loading ...\n",
      "Name: Summary, Length: 2138, dtype: object\n"
     ]
    }
   ],
   "source": [
    "print(processed)"
   ]
  },
  {
   "cell_type": "code",
   "execution_count": 47,
   "metadata": {},
   "outputs": [],
   "source": [
    "#from nltk.stem.snowball import SnowballStemmer"
   ]
  },
  {
   "cell_type": "code",
   "execution_count": 48,
   "metadata": {},
   "outputs": [],
   "source": [
    "#stemmer = SnowballStemmer(\"english\")"
   ]
  },
  {
   "cell_type": "code",
   "execution_count": 49,
   "metadata": {},
   "outputs": [],
   "source": [
    "#processed = processed.apply(lambda x: ' ' .join(stemmer.stem(term) for term in x.split()))"
   ]
  },
  {
   "cell_type": "code",
   "execution_count": 50,
   "metadata": {},
   "outputs": [],
   "source": [
    "#print(processed)"
   ]
  },
  {
   "cell_type": "code",
   "execution_count": 51,
   "metadata": {},
   "outputs": [],
   "source": [
    "from nltk.stem import WordNetLemmatizer "
   ]
  },
  {
   "cell_type": "code",
   "execution_count": 52,
   "metadata": {},
   "outputs": [],
   "source": [
    "lemmatizer = WordNetLemmatizer() "
   ]
  },
  {
   "cell_type": "code",
   "execution_count": 53,
   "metadata": {},
   "outputs": [],
   "source": [
    "processed = processed.apply(lambda x: ' ' .join(lemmatizer.lemmatize(term) for term in x.split()))"
   ]
  },
  {
   "cell_type": "code",
   "execution_count": 54,
   "metadata": {},
   "outputs": [
    {
     "data": {
      "text/plain": [
       "0       jdt ui gerrit failing invalid location system ...\n",
       "1                   compilation failure jdt compiler tool\n",
       "2                                           build failure\n",
       "3                                           build failure\n",
       "4       today update produce compile error javac compi...\n",
       "                              ...                        \n",
       "2133                 openh plugin work frequently firefox\n",
       "2134                   crash txmozillaxmloutput character\n",
       "2135    restoring profile different location path exte...\n",
       "2136    user report video artifact issue intel gpu upd...\n",
       "2137    slow shutdown debug firefox ~s build loading h...\n",
       "Name: Summary, Length: 2138, dtype: object"
      ]
     },
     "execution_count": 54,
     "metadata": {},
     "output_type": "execute_result"
    }
   ],
   "source": [
    "processed"
   ]
  },
  {
   "cell_type": "code",
   "execution_count": 55,
   "metadata": {},
   "outputs": [],
   "source": [
    "from nltk.tokenize import word_tokenize"
   ]
  },
  {
   "cell_type": "code",
   "execution_count": 56,
   "metadata": {},
   "outputs": [
    {
     "name": "stdout",
     "output_type": "stream",
     "text": [
      "Number of words: 3720\n",
      "most common words: [('test', 379), ('eclipse', 164), ('error', 141), ('intermittent', 135), ('failure', 121), ('org', 119), ('build', 113), ('>', 101), ('java', 99), ('memory', 98), ('j', 93), ('crash', 85), ('firefox', 84), ('plugin', 79), ('theme', 79), ('cpu', 77), ('dark', 72), ('button', 69), ('timed', 68), ('color', 68), ('ui', 67), ('tab', 67), ('http', 67), ('leak', 67), ('type', 67), ('exception', 64), ('page', 63), ('use', 62), ('window', 61), ('update', 59), ('high', 59), ('code', 59), ('file', 57), ('<', 56), ('using', 56), ('new', 55), ('fails', 53), ('nullpointerexception', 53), ('browser', 52), ('content', 51), ('internal', 51), ('assertion', 50), ('project', 50), ('method', 50), ('server', 49), ('usage', 49), ('freeze', 48), ('dom', 47), ('application', 47), ('can', 46)]\n"
     ]
    }
   ],
   "source": [
    "allwords = []\n",
    "for message in processed:\n",
    "    words = word_tokenize(message)\n",
    "    for w in words:\n",
    "        allwords.append(w)\n",
    "        \n",
    "allwords = nltk.FreqDist(allwords)\n",
    "\n",
    "print('Number of words: {}'.format(len(allwords)))\n",
    "print('most common words: {}'.format(allwords.most_common(50)))"
   ]
  },
  {
   "cell_type": "code",
   "execution_count": 57,
   "metadata": {},
   "outputs": [
    {
     "data": {
      "text/plain": [
       "'jdt ui gerrit failing invalid location system library error'"
      ]
     },
     "execution_count": 57,
     "metadata": {},
     "output_type": "execute_result"
    }
   ],
   "source": [
    "processed[0]"
   ]
  },
  {
   "cell_type": "code",
   "execution_count": 58,
   "metadata": {},
   "outputs": [
    {
     "name": "stdout",
     "output_type": "stream",
     "text": [
      "['test', 'eclipse', 'error', 'intermittent', 'failure', 'org', 'build', '>', 'java', 'memory', 'j', 'crash', 'firefox', 'plugin', 'theme', 'cpu', 'dark', 'button', 'timed', 'color', 'ui', 'tab', 'http', 'leak', 'type', 'exception', 'page', 'use', 'window', 'update', 'high', 'code', 'file', '<', 'using', 'new', 'fails', 'nullpointerexception', 'browser', 'content', 'internal', 'assertion', 'project', 'method', 'server', 'usage', 'freeze', 'dom', 'application', 'can']\n"
     ]
    }
   ],
   "source": [
    "word_features = allwords.most_common(50)\n",
    "word_features = [i[0] for i in word_features]\n",
    "print(word_features)"
   ]
  },
  {
   "cell_type": "code",
   "execution_count": 59,
   "metadata": {},
   "outputs": [
    {
     "name": "stdout",
     "output_type": "stream",
     "text": [
      "error\n",
      "ui\n"
     ]
    }
   ],
   "source": [
    "def find_features(message):\n",
    "    words = word_tokenize(message)\n",
    "    features = {}\n",
    "    for word in word_features:\n",
    "        features[word] = (word in words)\n",
    "    return features\n",
    "\n",
    "features = find_features(processed[0])\n",
    "\n",
    "for key, value in features.items():\n",
    "    if value == True:\n",
    "        print(key)"
   ]
  },
  {
   "cell_type": "code",
   "execution_count": 60,
   "metadata": {},
   "outputs": [],
   "source": [
    "from sklearn.feature_extraction.text import TfidfTransformer\n",
    "from sklearn.feature_extraction.text import TfidfVectorizer"
   ]
  },
  {
   "cell_type": "code",
   "execution_count": 61,
   "metadata": {},
   "outputs": [],
   "source": [
    "vectorizer = TfidfVectorizer()"
   ]
  },
  {
   "cell_type": "code",
   "execution_count": 62,
   "metadata": {},
   "outputs": [],
   "source": [
    "X = vectorizer.fit_transform(processed).toarray()"
   ]
  },
  {
   "cell_type": "code",
   "execution_count": 63,
   "metadata": {},
   "outputs": [
    {
     "name": "stdout",
     "output_type": "stream",
     "text": [
      "(2138, 3670)\n"
     ]
    }
   ],
   "source": [
    "print(X.shape)"
   ]
  },
  {
   "cell_type": "code",
   "execution_count": 64,
   "metadata": {},
   "outputs": [
    {
     "data": {
      "text/html": [
       "<div>\n",
       "<style scoped>\n",
       "    .dataframe tbody tr th:only-of-type {\n",
       "        vertical-align: middle;\n",
       "    }\n",
       "\n",
       "    .dataframe tbody tr th {\n",
       "        vertical-align: top;\n",
       "    }\n",
       "\n",
       "    .dataframe thead th {\n",
       "        text-align: right;\n",
       "    }\n",
       "</style>\n",
       "<table border=\"1\" class=\"dataframe\">\n",
       "  <thead>\n",
       "    <tr style=\"text-align: right;\">\n",
       "      <th></th>\n",
       "      <th>__cfrunloopservicemachport</th>\n",
       "      <th>__format</th>\n",
       "      <th>__nscfdictionary</th>\n",
       "      <th>_cairo_array_allocate</th>\n",
       "      <th>_psutil_osx</th>\n",
       "      <th>_ssl</th>\n",
       "      <th>_tests</th>\n",
       "      <th>aa</th>\n",
       "      <th>aarch</th>\n",
       "      <th>ab</th>\n",
       "      <th>...</th>\n",
       "      <th>youtube</th>\n",
       "      <th>yubikey</th>\n",
       "      <th>zero</th>\n",
       "      <th>zerohedge</th>\n",
       "      <th>zhihu</th>\n",
       "      <th>zlib</th>\n",
       "      <th>zombie</th>\n",
       "      <th>zoom</th>\n",
       "      <th>zoomed</th>\n",
       "      <th>zooming</th>\n",
       "    </tr>\n",
       "  </thead>\n",
       "  <tbody>\n",
       "    <tr>\n",
       "      <th>0</th>\n",
       "      <td>0.0</td>\n",
       "      <td>0.0</td>\n",
       "      <td>0.0</td>\n",
       "      <td>0.0</td>\n",
       "      <td>0.0</td>\n",
       "      <td>0.0</td>\n",
       "      <td>0.0</td>\n",
       "      <td>0.0</td>\n",
       "      <td>0.0</td>\n",
       "      <td>0.0</td>\n",
       "      <td>...</td>\n",
       "      <td>0.0</td>\n",
       "      <td>0.0</td>\n",
       "      <td>0.0</td>\n",
       "      <td>0.0</td>\n",
       "      <td>0.0</td>\n",
       "      <td>0.0</td>\n",
       "      <td>0.0</td>\n",
       "      <td>0.0</td>\n",
       "      <td>0.0</td>\n",
       "      <td>0.0</td>\n",
       "    </tr>\n",
       "    <tr>\n",
       "      <th>1</th>\n",
       "      <td>0.0</td>\n",
       "      <td>0.0</td>\n",
       "      <td>0.0</td>\n",
       "      <td>0.0</td>\n",
       "      <td>0.0</td>\n",
       "      <td>0.0</td>\n",
       "      <td>0.0</td>\n",
       "      <td>0.0</td>\n",
       "      <td>0.0</td>\n",
       "      <td>0.0</td>\n",
       "      <td>...</td>\n",
       "      <td>0.0</td>\n",
       "      <td>0.0</td>\n",
       "      <td>0.0</td>\n",
       "      <td>0.0</td>\n",
       "      <td>0.0</td>\n",
       "      <td>0.0</td>\n",
       "      <td>0.0</td>\n",
       "      <td>0.0</td>\n",
       "      <td>0.0</td>\n",
       "      <td>0.0</td>\n",
       "    </tr>\n",
       "    <tr>\n",
       "      <th>2</th>\n",
       "      <td>0.0</td>\n",
       "      <td>0.0</td>\n",
       "      <td>0.0</td>\n",
       "      <td>0.0</td>\n",
       "      <td>0.0</td>\n",
       "      <td>0.0</td>\n",
       "      <td>0.0</td>\n",
       "      <td>0.0</td>\n",
       "      <td>0.0</td>\n",
       "      <td>0.0</td>\n",
       "      <td>...</td>\n",
       "      <td>0.0</td>\n",
       "      <td>0.0</td>\n",
       "      <td>0.0</td>\n",
       "      <td>0.0</td>\n",
       "      <td>0.0</td>\n",
       "      <td>0.0</td>\n",
       "      <td>0.0</td>\n",
       "      <td>0.0</td>\n",
       "      <td>0.0</td>\n",
       "      <td>0.0</td>\n",
       "    </tr>\n",
       "    <tr>\n",
       "      <th>3</th>\n",
       "      <td>0.0</td>\n",
       "      <td>0.0</td>\n",
       "      <td>0.0</td>\n",
       "      <td>0.0</td>\n",
       "      <td>0.0</td>\n",
       "      <td>0.0</td>\n",
       "      <td>0.0</td>\n",
       "      <td>0.0</td>\n",
       "      <td>0.0</td>\n",
       "      <td>0.0</td>\n",
       "      <td>...</td>\n",
       "      <td>0.0</td>\n",
       "      <td>0.0</td>\n",
       "      <td>0.0</td>\n",
       "      <td>0.0</td>\n",
       "      <td>0.0</td>\n",
       "      <td>0.0</td>\n",
       "      <td>0.0</td>\n",
       "      <td>0.0</td>\n",
       "      <td>0.0</td>\n",
       "      <td>0.0</td>\n",
       "    </tr>\n",
       "    <tr>\n",
       "      <th>4</th>\n",
       "      <td>0.0</td>\n",
       "      <td>0.0</td>\n",
       "      <td>0.0</td>\n",
       "      <td>0.0</td>\n",
       "      <td>0.0</td>\n",
       "      <td>0.0</td>\n",
       "      <td>0.0</td>\n",
       "      <td>0.0</td>\n",
       "      <td>0.0</td>\n",
       "      <td>0.0</td>\n",
       "      <td>...</td>\n",
       "      <td>0.0</td>\n",
       "      <td>0.0</td>\n",
       "      <td>0.0</td>\n",
       "      <td>0.0</td>\n",
       "      <td>0.0</td>\n",
       "      <td>0.0</td>\n",
       "      <td>0.0</td>\n",
       "      <td>0.0</td>\n",
       "      <td>0.0</td>\n",
       "      <td>0.0</td>\n",
       "    </tr>\n",
       "    <tr>\n",
       "      <th>...</th>\n",
       "      <td>...</td>\n",
       "      <td>...</td>\n",
       "      <td>...</td>\n",
       "      <td>...</td>\n",
       "      <td>...</td>\n",
       "      <td>...</td>\n",
       "      <td>...</td>\n",
       "      <td>...</td>\n",
       "      <td>...</td>\n",
       "      <td>...</td>\n",
       "      <td>...</td>\n",
       "      <td>...</td>\n",
       "      <td>...</td>\n",
       "      <td>...</td>\n",
       "      <td>...</td>\n",
       "      <td>...</td>\n",
       "      <td>...</td>\n",
       "      <td>...</td>\n",
       "      <td>...</td>\n",
       "      <td>...</td>\n",
       "      <td>...</td>\n",
       "    </tr>\n",
       "    <tr>\n",
       "      <th>2133</th>\n",
       "      <td>0.0</td>\n",
       "      <td>0.0</td>\n",
       "      <td>0.0</td>\n",
       "      <td>0.0</td>\n",
       "      <td>0.0</td>\n",
       "      <td>0.0</td>\n",
       "      <td>0.0</td>\n",
       "      <td>0.0</td>\n",
       "      <td>0.0</td>\n",
       "      <td>0.0</td>\n",
       "      <td>...</td>\n",
       "      <td>0.0</td>\n",
       "      <td>0.0</td>\n",
       "      <td>0.0</td>\n",
       "      <td>0.0</td>\n",
       "      <td>0.0</td>\n",
       "      <td>0.0</td>\n",
       "      <td>0.0</td>\n",
       "      <td>0.0</td>\n",
       "      <td>0.0</td>\n",
       "      <td>0.0</td>\n",
       "    </tr>\n",
       "    <tr>\n",
       "      <th>2134</th>\n",
       "      <td>0.0</td>\n",
       "      <td>0.0</td>\n",
       "      <td>0.0</td>\n",
       "      <td>0.0</td>\n",
       "      <td>0.0</td>\n",
       "      <td>0.0</td>\n",
       "      <td>0.0</td>\n",
       "      <td>0.0</td>\n",
       "      <td>0.0</td>\n",
       "      <td>0.0</td>\n",
       "      <td>...</td>\n",
       "      <td>0.0</td>\n",
       "      <td>0.0</td>\n",
       "      <td>0.0</td>\n",
       "      <td>0.0</td>\n",
       "      <td>0.0</td>\n",
       "      <td>0.0</td>\n",
       "      <td>0.0</td>\n",
       "      <td>0.0</td>\n",
       "      <td>0.0</td>\n",
       "      <td>0.0</td>\n",
       "    </tr>\n",
       "    <tr>\n",
       "      <th>2135</th>\n",
       "      <td>0.0</td>\n",
       "      <td>0.0</td>\n",
       "      <td>0.0</td>\n",
       "      <td>0.0</td>\n",
       "      <td>0.0</td>\n",
       "      <td>0.0</td>\n",
       "      <td>0.0</td>\n",
       "      <td>0.0</td>\n",
       "      <td>0.0</td>\n",
       "      <td>0.0</td>\n",
       "      <td>...</td>\n",
       "      <td>0.0</td>\n",
       "      <td>0.0</td>\n",
       "      <td>0.0</td>\n",
       "      <td>0.0</td>\n",
       "      <td>0.0</td>\n",
       "      <td>0.0</td>\n",
       "      <td>0.0</td>\n",
       "      <td>0.0</td>\n",
       "      <td>0.0</td>\n",
       "      <td>0.0</td>\n",
       "    </tr>\n",
       "    <tr>\n",
       "      <th>2136</th>\n",
       "      <td>0.0</td>\n",
       "      <td>0.0</td>\n",
       "      <td>0.0</td>\n",
       "      <td>0.0</td>\n",
       "      <td>0.0</td>\n",
       "      <td>0.0</td>\n",
       "      <td>0.0</td>\n",
       "      <td>0.0</td>\n",
       "      <td>0.0</td>\n",
       "      <td>0.0</td>\n",
       "      <td>...</td>\n",
       "      <td>0.0</td>\n",
       "      <td>0.0</td>\n",
       "      <td>0.0</td>\n",
       "      <td>0.0</td>\n",
       "      <td>0.0</td>\n",
       "      <td>0.0</td>\n",
       "      <td>0.0</td>\n",
       "      <td>0.0</td>\n",
       "      <td>0.0</td>\n",
       "      <td>0.0</td>\n",
       "    </tr>\n",
       "    <tr>\n",
       "      <th>2137</th>\n",
       "      <td>0.0</td>\n",
       "      <td>0.0</td>\n",
       "      <td>0.0</td>\n",
       "      <td>0.0</td>\n",
       "      <td>0.0</td>\n",
       "      <td>0.0</td>\n",
       "      <td>0.0</td>\n",
       "      <td>0.0</td>\n",
       "      <td>0.0</td>\n",
       "      <td>0.0</td>\n",
       "      <td>...</td>\n",
       "      <td>0.0</td>\n",
       "      <td>0.0</td>\n",
       "      <td>0.0</td>\n",
       "      <td>0.0</td>\n",
       "      <td>0.0</td>\n",
       "      <td>0.0</td>\n",
       "      <td>0.0</td>\n",
       "      <td>0.0</td>\n",
       "      <td>0.0</td>\n",
       "      <td>0.0</td>\n",
       "    </tr>\n",
       "  </tbody>\n",
       "</table>\n",
       "<p>2138 rows × 3670 columns</p>\n",
       "</div>"
      ],
      "text/plain": [
       "      __cfrunloopservicemachport  __format  __nscfdictionary  \\\n",
       "0                            0.0       0.0               0.0   \n",
       "1                            0.0       0.0               0.0   \n",
       "2                            0.0       0.0               0.0   \n",
       "3                            0.0       0.0               0.0   \n",
       "4                            0.0       0.0               0.0   \n",
       "...                          ...       ...               ...   \n",
       "2133                         0.0       0.0               0.0   \n",
       "2134                         0.0       0.0               0.0   \n",
       "2135                         0.0       0.0               0.0   \n",
       "2136                         0.0       0.0               0.0   \n",
       "2137                         0.0       0.0               0.0   \n",
       "\n",
       "      _cairo_array_allocate  _psutil_osx  _ssl  _tests   aa  aarch   ab  ...  \\\n",
       "0                       0.0          0.0   0.0     0.0  0.0    0.0  0.0  ...   \n",
       "1                       0.0          0.0   0.0     0.0  0.0    0.0  0.0  ...   \n",
       "2                       0.0          0.0   0.0     0.0  0.0    0.0  0.0  ...   \n",
       "3                       0.0          0.0   0.0     0.0  0.0    0.0  0.0  ...   \n",
       "4                       0.0          0.0   0.0     0.0  0.0    0.0  0.0  ...   \n",
       "...                     ...          ...   ...     ...  ...    ...  ...  ...   \n",
       "2133                    0.0          0.0   0.0     0.0  0.0    0.0  0.0  ...   \n",
       "2134                    0.0          0.0   0.0     0.0  0.0    0.0  0.0  ...   \n",
       "2135                    0.0          0.0   0.0     0.0  0.0    0.0  0.0  ...   \n",
       "2136                    0.0          0.0   0.0     0.0  0.0    0.0  0.0  ...   \n",
       "2137                    0.0          0.0   0.0     0.0  0.0    0.0  0.0  ...   \n",
       "\n",
       "      youtube  yubikey  zero  zerohedge  zhihu  zlib  zombie  zoom  zoomed  \\\n",
       "0         0.0      0.0   0.0        0.0    0.0   0.0     0.0   0.0     0.0   \n",
       "1         0.0      0.0   0.0        0.0    0.0   0.0     0.0   0.0     0.0   \n",
       "2         0.0      0.0   0.0        0.0    0.0   0.0     0.0   0.0     0.0   \n",
       "3         0.0      0.0   0.0        0.0    0.0   0.0     0.0   0.0     0.0   \n",
       "4         0.0      0.0   0.0        0.0    0.0   0.0     0.0   0.0     0.0   \n",
       "...       ...      ...   ...        ...    ...   ...     ...   ...     ...   \n",
       "2133      0.0      0.0   0.0        0.0    0.0   0.0     0.0   0.0     0.0   \n",
       "2134      0.0      0.0   0.0        0.0    0.0   0.0     0.0   0.0     0.0   \n",
       "2135      0.0      0.0   0.0        0.0    0.0   0.0     0.0   0.0     0.0   \n",
       "2136      0.0      0.0   0.0        0.0    0.0   0.0     0.0   0.0     0.0   \n",
       "2137      0.0      0.0   0.0        0.0    0.0   0.0     0.0   0.0     0.0   \n",
       "\n",
       "      zooming  \n",
       "0         0.0  \n",
       "1         0.0  \n",
       "2         0.0  \n",
       "3         0.0  \n",
       "4         0.0  \n",
       "...       ...  \n",
       "2133      0.0  \n",
       "2134      0.0  \n",
       "2135      0.0  \n",
       "2136      0.0  \n",
       "2137      0.0  \n",
       "\n",
       "[2138 rows x 3670 columns]"
      ]
     },
     "execution_count": 64,
     "metadata": {},
     "output_type": "execute_result"
    }
   ],
   "source": [
    "pd.DataFrame(X, columns=vectorizer.get_feature_names()) "
   ]
  },
  {
   "cell_type": "code",
   "execution_count": 65,
   "metadata": {},
   "outputs": [],
   "source": [
    "Y = df['Category']"
   ]
  },
  {
   "cell_type": "code",
   "execution_count": 66,
   "metadata": {},
   "outputs": [],
   "source": [
    "from sklearn.model_selection import train_test_split  \n",
    "X_train, X_test, y_train, y_test = train_test_split(X, Y, test_size=0.2, random_state=0)"
   ]
  },
  {
   "cell_type": "code",
   "execution_count": 67,
   "metadata": {},
   "outputs": [
    {
     "name": "stdout",
     "output_type": "stream",
     "text": [
      "Program_Anomaly      498\n",
      "GUI                  465\n",
      "Test_Code            336\n",
      "Performance          316\n",
      "Configuration        281\n",
      "NetworkOrSecurity    242\n",
      "Name: Category, dtype: int64\n"
     ]
    }
   ],
   "source": [
    "print(Y.value_counts())"
   ]
  },
  {
   "cell_type": "code",
   "execution_count": 68,
   "metadata": {},
   "outputs": [
    {
     "data": {
      "text/plain": [
       "RandomForestClassifier(bootstrap=True, ccp_alpha=0.0, class_weight=None,\n",
       "                       criterion='gini', max_depth=None, max_features='auto',\n",
       "                       max_leaf_nodes=None, max_samples=None,\n",
       "                       min_impurity_decrease=0.0, min_impurity_split=None,\n",
       "                       min_samples_leaf=1, min_samples_split=2,\n",
       "                       min_weight_fraction_leaf=0.0, n_estimators=100,\n",
       "                       n_jobs=None, oob_score=False, random_state=0, verbose=0,\n",
       "                       warm_start=False)"
      ]
     },
     "execution_count": 68,
     "metadata": {},
     "output_type": "execute_result"
    }
   ],
   "source": [
    "from sklearn.ensemble import RandomForestClassifier\n",
    "text_classifier = RandomForestClassifier(n_estimators=100, random_state=0)  \n",
    "text_classifier.fit(X_train, y_train)"
   ]
  },
  {
   "cell_type": "code",
   "execution_count": 69,
   "metadata": {},
   "outputs": [],
   "source": [
    "predictions = text_classifier.predict(X_test)"
   ]
  },
  {
   "cell_type": "code",
   "execution_count": 70,
   "metadata": {},
   "outputs": [
    {
     "name": "stdout",
     "output_type": "stream",
     "text": [
      "[[43  1  1  1  8  0]\n",
      " [ 0 80  1  1  1  1]\n",
      " [ 2  1 40  1  7  2]\n",
      " [ 2  0  1 68  5  0]\n",
      " [ 0  4  0  0 94  1]\n",
      " [ 1  3  0  1  2 55]]\n",
      "                   precision    recall  f1-score   support\n",
      "\n",
      "    Configuration       0.90      0.80      0.84        54\n",
      "              GUI       0.90      0.95      0.92        84\n",
      "NetworkOrSecurity       0.93      0.75      0.83        53\n",
      "      Performance       0.94      0.89      0.92        76\n",
      "  Program_Anomaly       0.80      0.95      0.87        99\n",
      "        Test_Code       0.93      0.89      0.91        62\n",
      "\n",
      "         accuracy                           0.89       428\n",
      "        macro avg       0.90      0.87      0.88       428\n",
      "     weighted avg       0.89      0.89      0.89       428\n",
      "\n",
      "0.8878504672897196\n"
     ]
    }
   ],
   "source": [
    "from sklearn.metrics import classification_report, confusion_matrix, accuracy_score\n",
    "print(confusion_matrix(y_test,predictions))  \n",
    "print(classification_report(y_test,predictions))  \n",
    "print(accuracy_score(y_test, predictions))"
   ]
  },
  {
   "cell_type": "code",
   "execution_count": 71,
   "metadata": {},
   "outputs": [],
   "source": [
    "from sklearn.naive_bayes import GaussianNB\n",
    "from sklearn import metrics\n",
    "gnb = GaussianNB()\n",
    "gnb.fit(X_train, y_train)\n",
    "y_pred = gnb.predict(X_test)"
   ]
  },
  {
   "cell_type": "code",
   "execution_count": 72,
   "metadata": {},
   "outputs": [
    {
     "name": "stdout",
     "output_type": "stream",
     "text": [
      "[[37  3  5  2  5  2]\n",
      " [ 3 72  1  4  2  2]\n",
      " [ 7  5 27  5  3  6]\n",
      " [ 3 11  8 47  5  2]\n",
      " [10  9  6  1 71  2]\n",
      " [14  3  1  6  5 33]]\n",
      "                   precision    recall  f1-score   support\n",
      "\n",
      "    Configuration       0.50      0.69      0.58        54\n",
      "              GUI       0.70      0.86      0.77        84\n",
      "NetworkOrSecurity       0.56      0.51      0.53        53\n",
      "      Performance       0.72      0.62      0.67        76\n",
      "  Program_Anomaly       0.78      0.72      0.75        99\n",
      "        Test_Code       0.70      0.53      0.61        62\n",
      "\n",
      "         accuracy                           0.67       428\n",
      "        macro avg       0.66      0.65      0.65       428\n",
      "     weighted avg       0.68      0.67      0.67       428\n",
      "\n",
      "0.6705607476635514\n"
     ]
    }
   ],
   "source": [
    "print(confusion_matrix(y_test,y_pred))  \n",
    "print(classification_report(y_test,y_pred))  \n",
    "print(accuracy_score(y_test, y_pred))"
   ]
  },
  {
   "cell_type": "code",
   "execution_count": 73,
   "metadata": {},
   "outputs": [],
   "source": [
    "from sklearn.linear_model import LogisticRegression\n",
    "from sklearn.metrics import accuracy_score\n",
    "logreg = LogisticRegression(solver='liblinear', random_state=0)\n",
    "#fit the model\n",
    "logreg.fit(X_train, y_train)\n",
    "y_pred_test = logreg.predict(X_test)"
   ]
  },
  {
   "cell_type": "code",
   "execution_count": 74,
   "metadata": {},
   "outputs": [
    {
     "name": "stdout",
     "output_type": "stream",
     "text": [
      "[[36  6  0  2 10  0]\n",
      " [ 1 82  0  0  0  1]\n",
      " [ 0  3 36  1 12  1]\n",
      " [ 1  2  2 64  7  0]\n",
      " [ 0  4  0  0 94  1]\n",
      " [ 1  3  0  0  4 54]]\n",
      "                   precision    recall  f1-score   support\n",
      "\n",
      "    Configuration       0.92      0.67      0.77        54\n",
      "              GUI       0.82      0.98      0.89        84\n",
      "NetworkOrSecurity       0.95      0.68      0.79        53\n",
      "      Performance       0.96      0.84      0.90        76\n",
      "  Program_Anomaly       0.74      0.95      0.83        99\n",
      "        Test_Code       0.95      0.87      0.91        62\n",
      "\n",
      "         accuracy                           0.86       428\n",
      "        macro avg       0.89      0.83      0.85       428\n",
      "     weighted avg       0.87      0.86      0.85       428\n",
      "\n",
      "0.8551401869158879\n"
     ]
    }
   ],
   "source": [
    "from sklearn.metrics import classification_report, confusion_matrix, accuracy_score\n",
    "print(confusion_matrix(y_test,y_pred_test))  \n",
    "print(classification_report(y_test,y_pred_test))  \n",
    "print(accuracy_score(y_test, y_pred_test))"
   ]
  },
  {
   "cell_type": "code",
   "execution_count": 75,
   "metadata": {},
   "outputs": [
    {
     "name": "stdout",
     "output_type": "stream",
     "text": [
      "Accuracy: 0.8387850467289719\n"
     ]
    }
   ],
   "source": [
    "from sklearn.tree import DecisionTreeClassifier \n",
    "dtree_model = DecisionTreeClassifier(criterion = 'entropy').fit(X_train, y_train) \n",
    "dtree_predictions = dtree_model.predict(X_test) \n",
    "print(\"Accuracy:\",metrics.accuracy_score(y_test, dtree_predictions))"
   ]
  },
  {
   "cell_type": "code",
   "execution_count": 76,
   "metadata": {},
   "outputs": [
    {
     "name": "stdout",
     "output_type": "stream",
     "text": [
      "[[42  3  2  2  4  1]\n",
      " [ 3 71  1  3  5  1]\n",
      " [ 2  4 39  2  5  1]\n",
      " [ 2  2  2 66  4  0]\n",
      " [ 1  8  1  0 87  2]\n",
      " [ 2  4  1  1  0 54]]\n",
      "                   precision    recall  f1-score   support\n",
      "\n",
      "    Configuration       0.81      0.78      0.79        54\n",
      "              GUI       0.77      0.85      0.81        84\n",
      "NetworkOrSecurity       0.85      0.74      0.79        53\n",
      "      Performance       0.89      0.87      0.88        76\n",
      "  Program_Anomaly       0.83      0.88      0.85        99\n",
      "        Test_Code       0.92      0.87      0.89        62\n",
      "\n",
      "         accuracy                           0.84       428\n",
      "        macro avg       0.84      0.83      0.84       428\n",
      "     weighted avg       0.84      0.84      0.84       428\n",
      "\n",
      "0.8387850467289719\n"
     ]
    }
   ],
   "source": [
    "from sklearn.metrics import classification_report, confusion_matrix, accuracy_score\n",
    "print(confusion_matrix(y_test,dtree_predictions))  \n",
    "print(classification_report(y_test,dtree_predictions))  \n",
    "print(accuracy_score(y_test, dtree_predictions))"
   ]
  },
  {
   "cell_type": "code",
   "execution_count": null,
   "metadata": {},
   "outputs": [],
   "source": []
  }
 ],
 "metadata": {
  "kernelspec": {
   "display_name": "Python 3",
   "language": "python",
   "name": "python3"
  },
  "language_info": {
   "codemirror_mode": {
    "name": "ipython",
    "version": 3
   },
   "file_extension": ".py",
   "mimetype": "text/x-python",
   "name": "python",
   "nbconvert_exporter": "python",
   "pygments_lexer": "ipython3",
   "version": "3.7.3"
  }
 },
 "nbformat": 4,
 "nbformat_minor": 4
}
